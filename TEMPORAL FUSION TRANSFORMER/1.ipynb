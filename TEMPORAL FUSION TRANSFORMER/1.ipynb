import os
import copy
import torch
import warnings
import numpy as np
import pandas as pd
from pathlib import Path
import pytorch_lightning as pl
from pytorch_forecasting.data import GroupNormalizer
from pytorch_lightning.loggers import TensorBoardLogger
from pytorch_forecasting.data.examples import get_stallion_data
from pytorch_forecasting.metrics import SMAPE, PoissonLoss, QuantileLoss
from pytorch_lightning.callbacks import EarlyStopping, LearningRateMonitor
from pytorch_forecasting import Baseline, TemporalFusionTransformer, 
TimeSeriesDataSet
from pytorch_forecasting.models.temporal_fusion_transformer.tuning import 
optimize_hyperparameters
warnings.filterwarnings("ignore")
